{
 "cells": [
  {
   "cell_type": "code",
   "execution_count": 1,
   "id": "7cec7294",
   "metadata": {},
   "outputs": [],
   "source": [
    "import pandas as pd\n",
    "import matplotlib as mpl\n",
    "import matplotlib.pyplot as plt\n",
    "import os"
   ]
  },
  {
   "cell_type": "code",
   "execution_count": null,
   "id": "6a65178d",
   "metadata": {},
   "outputs": [],
   "source": []
  },
  {
   "cell_type": "code",
   "execution_count": 3,
   "id": "4de37904",
   "metadata": {},
   "outputs": [],
   "source": [
    "import tensorflow as tf\n",
    "from tensorflow import keras"
   ]
  },
  {
   "cell_type": "code",
   "execution_count": 4,
   "id": "60073c96",
   "metadata": {},
   "outputs": [],
   "source": [
    "train_dir = r'C:\\College\\Deep Learning\\Image recognition project module Data set, Presentation and Python Notebook\\cats_and_dogs\\train'\n",
    "validation_dir = r'C:\\College\\Deep Learning\\Image recognition project module Data set, Presentation and Python Notebook\\cats_and_dogs\\validation'\n",
    "test_dir = r'C:\\College\\Deep Learning\\Image recognition project module Data set, Presentation and Python Notebook\\cats_and_dogs\\test'"
   ]
  },
  {
   "cell_type": "code",
   "execution_count": 5,
   "id": "f7554699",
   "metadata": {},
   "outputs": [],
   "source": [
    "from tensorflow.keras.preprocessing.image import ImageDataGenerator"
   ]
  },
  {
   "cell_type": "code",
   "execution_count": 7,
   "id": "a53fc302",
   "metadata": {},
   "outputs": [
    {
     "name": "stdout",
     "output_type": "stream",
     "text": [
      "Found 2000 images belonging to 2 classes.\n",
      "Found 1000 images belonging to 2 classes.\n"
     ]
    }
   ],
   "source": [
    "train_datagen = ImageDataGenerator(rescale=1./255)\n",
    "test_datagen = ImageDataGenerator(rescale=1./255)\n",
    "\n",
    "train_generator = train_datagen.flow_from_directory(\n",
    "    train_dir,\n",
    "    target_size=(150,150),\n",
    "    batch_size=20,\n",
    "    class_mode='binary')\n",
    "\n",
    "validation_generator = train_datagen.flow_from_directory(\n",
    "    validation_dir,\n",
    "    target_size=(150,150),\n",
    "    batch_size=20,\n",
    "    class_mode='binary')"
   ]
  },
  {
   "cell_type": "code",
   "execution_count": 8,
   "id": "d9e6c969",
   "metadata": {},
   "outputs": [],
   "source": [
    "from tensorflow.keras import layers\n",
    "from tensorflow.keras import models"
   ]
  },
  {
   "cell_type": "code",
   "execution_count": 9,
   "id": "750500d4",
   "metadata": {},
   "outputs": [],
   "source": [
    "model = models.Sequential()\n",
    "\n",
    "model.add(layers.Conv2D(32,(3,3),activation='relu',input_shape=(150,150,3)))\n",
    "model.add(layers.MaxPooling2D((2,2)))\n",
    "\n",
    "model.add(layers.Conv2D(64,(3,3),activation='relu'))\n",
    "model.add(layers.MaxPooling2D((2,2)))\n",
    "\n",
    "model.add(layers.Conv2D(128,(3,3),activation='relu'))\n",
    "model.add(layers.MaxPooling2D((2,2)))\n",
    "\n",
    "model.add(layers.Conv2D(128,(3,3),activation='relu'))\n",
    "model.add(layers.MaxPooling2D((2,2)))\n",
    "\n",
    "model.add(layers.Flatten())\n",
    "\n",
    "model.add(layers.Dense(512, activation='relu'))\n",
    "\n",
    "model.add(layers.Dense(1,activation='sigmoid'))"
   ]
  },
  {
   "cell_type": "code",
   "execution_count": 10,
   "id": "ffe70a3b",
   "metadata": {},
   "outputs": [
    {
     "name": "stdout",
     "output_type": "stream",
     "text": [
      "Model: \"sequential\"\n",
      "_________________________________________________________________\n",
      "Layer (type)                 Output Shape              Param #   \n",
      "=================================================================\n",
      "conv2d (Conv2D)              (None, 148, 148, 32)      896       \n",
      "_________________________________________________________________\n",
      "max_pooling2d (MaxPooling2D) (None, 74, 74, 32)        0         \n",
      "_________________________________________________________________\n",
      "conv2d_1 (Conv2D)            (None, 72, 72, 64)        18496     \n",
      "_________________________________________________________________\n",
      "max_pooling2d_1 (MaxPooling2 (None, 36, 36, 64)        0         \n",
      "_________________________________________________________________\n",
      "conv2d_2 (Conv2D)            (None, 34, 34, 128)       73856     \n",
      "_________________________________________________________________\n",
      "max_pooling2d_2 (MaxPooling2 (None, 17, 17, 128)       0         \n",
      "_________________________________________________________________\n",
      "conv2d_3 (Conv2D)            (None, 15, 15, 128)       147584    \n",
      "_________________________________________________________________\n",
      "max_pooling2d_3 (MaxPooling2 (None, 7, 7, 128)         0         \n",
      "_________________________________________________________________\n",
      "flatten (Flatten)            (None, 6272)              0         \n",
      "_________________________________________________________________\n",
      "dense (Dense)                (None, 512)               3211776   \n",
      "_________________________________________________________________\n",
      "dense_1 (Dense)              (None, 1)                 513       \n",
      "=================================================================\n",
      "Total params: 3,453,121\n",
      "Trainable params: 3,453,121\n",
      "Non-trainable params: 0\n",
      "_________________________________________________________________\n"
     ]
    }
   ],
   "source": [
    "model.summary()"
   ]
  },
  {
   "cell_type": "code",
   "execution_count": 11,
   "id": "ca4fa2fa",
   "metadata": {},
   "outputs": [],
   "source": [
    "from tensorflow.keras import optimizers\n",
    "\n",
    "model.compile(loss='binary_crossentropy',\n",
    "             optimizer=optimizers.RMSprop(lr=1e-4),\n",
    "             metrics=['acc'])"
   ]
  },
  {
   "cell_type": "code",
   "execution_count": 13,
   "id": "0f22d50c",
   "metadata": {},
   "outputs": [
    {
     "name": "stdout",
     "output_type": "stream",
     "text": [
      "Epoch 1/20\n",
      "100/100 [==============================] - 102s 1s/step - loss: 0.6820 - acc: 0.5650 - val_loss: 0.6716 - val_acc: 0.5440\n",
      "Epoch 2/20\n",
      "100/100 [==============================] - 69s 688ms/step - loss: 0.6487 - acc: 0.6290 - val_loss: 0.6260 - val_acc: 0.6620\n",
      "Epoch 3/20\n",
      "100/100 [==============================] - 72s 724ms/step - loss: 0.6052 - acc: 0.6695 - val_loss: 0.6160 - val_acc: 0.6570\n",
      "Epoch 4/20\n",
      "100/100 [==============================] - 65s 654ms/step - loss: 0.5550 - acc: 0.7160 - val_loss: 0.5909 - val_acc: 0.6820\n",
      "Epoch 5/20\n",
      "100/100 [==============================] - 61s 614ms/step - loss: 0.5156 - acc: 0.7440 - val_loss: 0.6206 - val_acc: 0.6590\n",
      "Epoch 6/20\n",
      "100/100 [==============================] - 58s 575ms/step - loss: 0.4920 - acc: 0.7580 - val_loss: 0.5559 - val_acc: 0.7110\n",
      "Epoch 7/20\n",
      "100/100 [==============================] - 57s 573ms/step - loss: 0.4629 - acc: 0.7840 - val_loss: 0.5669 - val_acc: 0.7100\n",
      "Epoch 8/20\n",
      "100/100 [==============================] - 57s 566ms/step - loss: 0.4330 - acc: 0.8000 - val_loss: 0.5607 - val_acc: 0.7090\n",
      "Epoch 9/20\n",
      "100/100 [==============================] - 57s 572ms/step - loss: 0.4123 - acc: 0.8085 - val_loss: 0.5414 - val_acc: 0.7280\n",
      "Epoch 10/20\n",
      "100/100 [==============================] - 57s 567ms/step - loss: 0.3792 - acc: 0.8350 - val_loss: 0.5320 - val_acc: 0.7470\n",
      "Epoch 11/20\n",
      "100/100 [==============================] - 57s 568ms/step - loss: 0.3686 - acc: 0.8310 - val_loss: 0.5607 - val_acc: 0.7280\n",
      "Epoch 12/20\n",
      "100/100 [==============================] - 57s 566ms/step - loss: 0.3296 - acc: 0.8595 - val_loss: 0.5652 - val_acc: 0.7320\n",
      "Epoch 13/20\n",
      "100/100 [==============================] - 56s 564ms/step - loss: 0.3140 - acc: 0.8685 - val_loss: 0.5501 - val_acc: 0.7460\n",
      "Epoch 14/20\n",
      "100/100 [==============================] - 58s 577ms/step - loss: 0.2900 - acc: 0.8765 - val_loss: 0.5576 - val_acc: 0.7450\n",
      "Epoch 15/20\n",
      "100/100 [==============================] - 57s 569ms/step - loss: 0.2739 - acc: 0.8800 - val_loss: 0.6039 - val_acc: 0.7210\n",
      "Epoch 16/20\n",
      "100/100 [==============================] - 56s 564ms/step - loss: 0.2431 - acc: 0.9110 - val_loss: 0.6149 - val_acc: 0.7210\n",
      "Epoch 17/20\n",
      "100/100 [==============================] - 56s 563ms/step - loss: 0.2243 - acc: 0.9160 - val_loss: 0.6470 - val_acc: 0.7260\n",
      "Epoch 18/20\n",
      "100/100 [==============================] - 56s 561ms/step - loss: 0.2017 - acc: 0.9220 - val_loss: 0.5902 - val_acc: 0.7370\n",
      "Epoch 19/20\n",
      "100/100 [==============================] - 56s 561ms/step - loss: 0.1862 - acc: 0.9325 - val_loss: 0.7622 - val_acc: 0.7040\n",
      "Epoch 20/20\n",
      "100/100 [==============================] - 56s 562ms/step - loss: 0.1672 - acc: 0.9405 - val_loss: 0.6502 - val_acc: 0.7380\n"
     ]
    }
   ],
   "source": [
    "history = model.fit(\n",
    "        train_generator,\n",
    "        steps_per_epoch=100,\n",
    "        epochs=20,\n",
    "        validation_data=validation_generator,\n",
    "        validation_steps=50)"
   ]
  },
  {
   "cell_type": "code",
   "execution_count": 14,
   "id": "ac97a316",
   "metadata": {},
   "outputs": [
    {
     "data": {
      "image/png": "[encoded data removed]",
      "text/plain": [
       "<Figure size 432x288 with 1 Axes>"
      ]
     },
     "metadata": {
      "needs_background": "light"
     },
     "output_type": "display_data"
    }
   ],
   "source": [
    "pd.DataFrame(history.history).plot()\n",
    "plt.grid(True)\n",
    "plt.gca().set_ylim(0,1)\n",
    "plt.show()"
   ]
  },
  {
   "cell_type": "code",
   "execution_count": 15,
   "id": "7b0f1d27",
   "metadata": {},
   "outputs": [
    {
     "data": {
      "text/plain": [
       "'C:\\\\Users\\\\subha\\\\Deep Learning (Internshala)'"
      ]
     },
     "execution_count": 15,
     "metadata": {},
     "output_type": "execute_result"
    }
   ],
   "source": [
    "%pwd"
   ]
  },
  {
   "cell_type": "code",
   "execution_count": 16,
   "id": "a14644d8",
   "metadata": {},
   "outputs": [],
   "source": [
    "model.save(\"model.h5\")"
   ]
  },
  {
   "cell_type": "code",
   "execution_count": null,
   "id": "b20b8862",
   "metadata": {},
   "outputs": [],
   "source": []
  }
 ],
 "metadata": {
  "kernelspec": {
   "display_name": "Python 3",
   "language": "python",
   "name": "python3"
  },
  "language_info": {
   "codemirror_mode": {
    "name": "ipython",
    "version": 3
   },
   "file_extension": ".py",
   "mimetype": "text/x-python",
   "name": "python",
   "nbconvert_exporter": "python",
   "pygments_lexer": "ipython3",
   "version": "3.8.8"
  }
 },
 "nbformat": 4,
 "nbformat_minor": 5
}
